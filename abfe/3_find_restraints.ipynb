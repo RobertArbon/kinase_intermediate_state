{
 "cells": [
  {
   "cell_type": "code",
   "execution_count": 1,
   "id": "c1c65487-15ee-4387-a54d-8e3ea67bc4a5",
   "metadata": {},
   "outputs": [
    {
     "data": {
      "application/vnd.jupyter.widget-view+json": {
       "model_id": "38a2477991d34b67af9e2ded5371b173",
       "version_major": 2,
       "version_minor": 0
      },
      "text/plain": []
     },
     "metadata": {},
     "output_type": "display_data"
    },
    {
     "name": "stderr",
     "output_type": "stream",
     "text": [
      "INFO:rdkit:Enabling RDKit 2023.09.6 jupyter extensions\n",
      "INFO:numexpr.utils:NumExpr defaulting to 8 threads.\n"
     ]
    }
   ],
   "source": [
    "import BioSimSpace.Sandpit.Exscientia as BSS\n",
    "import numpy as np\n",
    "import pandas as pd\n",
    "from pathlib import Path"
   ]
  },
  {
   "cell_type": "code",
   "execution_count": 2,
   "id": "47976261-eed4-4b4c-b83a-6994a18e7c44",
   "metadata": {},
   "outputs": [],
   "source": [
    "pdb = '6rna'"
   ]
  },
  {
   "cell_type": "markdown",
   "id": "f8634365-dd1e-4c24-ac59-cea22f3d0cad",
   "metadata": {},
   "source": [
    "# Load system\n",
    "\n",
    "and set molecule to be decoupled"
   ]
  },
  {
   "cell_type": "code",
   "execution_count": 50,
   "id": "89bfe2fb-dac5-42cd-bf93-85cce59fba9e",
   "metadata": {},
   "outputs": [],
   "source": [
    "system = BSS.IO.readMolecules(f\"{pdb}/production/final/*\", make_whole=True, )"
   ]
  },
  {
   "cell_type": "code",
   "execution_count": 5,
   "id": "dcbab411-1d82-4b86-98ec-d15c82f739df",
   "metadata": {},
   "outputs": [],
   "source": [
    "lig_ix = 1"
   ]
  },
  {
   "cell_type": "code",
   "execution_count": 6,
   "id": "6425a947-afd0-4c59-8501-6b4c02a8dded",
   "metadata": {},
   "outputs": [],
   "source": [
    "lig = BSS.Align.decouple(system[lig_ix])\n",
    "system.updateMolecule(lig_ix, lig)"
   ]
  },
  {
   "cell_type": "code",
   "execution_count": 7,
   "id": "f9b860b7-7a50-48b8-8f97-a01911f83cd9",
   "metadata": {},
   "outputs": [
    {
     "data": {
      "text/plain": [
       "1"
      ]
     },
     "execution_count": 7,
     "metadata": {},
     "output_type": "execute_result"
    }
   ],
   "source": [
    "system.nDecoupledMolecules()"
   ]
  },
  {
   "cell_type": "code",
   "execution_count": 8,
   "id": "d4660c82-f0e0-4562-a9e4-347bc1111ede",
   "metadata": {},
   "outputs": [
    {
     "name": "stdout",
     "output_type": "stream",
     "text": [
      "<BioSimSpace.Molecules: nMolecules=1>\n"
     ]
    }
   ],
   "source": [
    "decoupled_mol = system.getDecoupledMolecules()\n",
    "print(decoupled_mol)"
   ]
  },
  {
   "cell_type": "markdown",
   "id": "eeabac81-c615-47bb-8810-4730bd60dbf4",
   "metadata": {},
   "source": [
    "## Estimate optimal restraints"
   ]
  },
  {
   "cell_type": "code",
   "execution_count": 39,
   "id": "c9a2523c-23c7-457a-b6c9-6da746e1d770",
   "metadata": {},
   "outputs": [
    {
     "name": "stdout",
     "output_type": "stream",
     "text": [
      "Indexing XTC \u001b[37;42m           \u001b[0m \u001b[35m  3.0 s\u001b[0m \u001b[36m126716640.0 bytes / s\u001b[0m          \n"
     ]
    },
    {
     "data": {
      "application/vnd.jupyter.widget-view+json": {
       "model_id": "39d96283272d42aaa2c94fa8e6178eaf",
       "version_major": 2,
       "version_minor": 0
      },
      "text/plain": [
       "Searching for low variance pairs. Frame no:   0%|          | 0/2501 [00:00<?, ?it/s]"
      ]
     },
     "metadata": {},
     "output_type": "display_data"
    },
    {
     "data": {
      "application/vnd.jupyter.widget-view+json": {
       "model_id": "119faa2a807c4d52990cddb044503559",
       "version_major": 2,
       "version_minor": 0
      },
      "text/plain": [
       "Scoring candidate Boresch anchor points. Anchor set no:   0%|          | 0/50 [00:00<?, ?it/s]"
      ]
     },
     "metadata": {},
     "output_type": "display_data"
    }
   ],
   "source": [
    "\n",
    "out_dir = Path(f\"{pdb}/restraint_search\")\n",
    "out_dir.mkdir(exist_ok=True, parents=True)\n",
    "\n",
    "    \n",
    "traj = BSS.Trajectory.Trajectory(\n",
    "    trajectory=f\"{pdb}/production/gromacs.xtc\",\n",
    "    topology=f\"{pdb}/solvated/solvated.prm7\",\n",
    ")\n",
    "\n",
    "# Search for the optimal Boresch restraints\n",
    "restraint = BSS.FreeEnergy.RestraintSearch.analyse(\n",
    "    work_dir = f\"{pdb}/restraint_search\",\n",
    "    system = system,\n",
    "    traj = traj,\n",
    "    temperature = 300 * BSS.Units.Temperature.kelvin,\n",
    "    method=\"BSS\",\n",
    "    restraint_type = \"Boresch\",\n",
    ")"
   ]
  },
  {
   "cell_type": "code",
   "execution_count": 42,
   "id": "b6bfe8f9-085f-47ef-b0f4-c36aac61574c",
   "metadata": {},
   "outputs": [
    {
     "data": {
      "text/plain": [
       "<BioSimSpace.Sandpit.Exscientia.FreeEnergy._restraint.Restraint at 0x1daad7e20>"
      ]
     },
     "execution_count": 42,
     "metadata": {},
     "output_type": "execute_result"
    }
   ],
   "source": [
    "restraint"
   ]
  },
  {
   "cell_type": "code",
   "execution_count": 43,
   "id": "465a997f-b8b1-41ad-99f3-d3ae6a814fba",
   "metadata": {},
   "outputs": [
    {
     "data": {
      "text/plain": [
       "-11.0104 kcal/mol"
      ]
     },
     "execution_count": 43,
     "metadata": {},
     "output_type": "execute_result"
    }
   ],
   "source": [
    "restraint.getCorrection()"
   ]
  },
  {
   "cell_type": "code",
   "execution_count": 125,
   "id": "67ded7c2-6723-45c3-93b7-4838cc69101a",
   "metadata": {},
   "outputs": [
    {
     "name": "stdout",
     "output_type": "stream",
     "text": [
      "boresch restraints dictionary = {\"anchor_points\":{\"r1\":1448, \"r2\":1446, \"r3\":1458, \"l1\":4981, \"l2\":4980, \"l3\":4982}, \"equilibrium_values\":{\"r0\":5.27, \"thetaA0\":1.34, \"thetaB0\":1.78,\"phiA0\":-2.00, \"phiB0\":1.96, \"phiC0\":2.33}, \"force_constants\":{\"kr\":10.49, \"kthetaA\":51.44, \"kthetaB\":46.18, \"kphiA\":121.38, \"kphiB\":111.59, \"kphiC\":56.94}}\n"
     ]
    }
   ],
   "source": [
    "print(restraint.toString(engine=\"somd\"))"
   ]
  },
  {
   "cell_type": "code",
   "execution_count": 64,
   "id": "8060477b-c062-483f-a82a-907046e0657b",
   "metadata": {
    "scrolled": true
   },
   "outputs": [
    {
     "data": {
      "application/vnd.jupyter.widget-view+json": {
       "model_id": "626ae7d799804a9da1d91b773988e91f",
       "version_major": 2,
       "version_minor": 0
      },
      "text/plain": [
       "NGLWidget(gui_style='ngl')"
      ]
     },
     "metadata": {},
     "output_type": "display_data"
    }
   ],
   "source": [
    "view = BSS.Notebook.View(system)\n",
    "view.system()"
   ]
  },
  {
   "cell_type": "markdown",
   "id": "516681ec-e5db-4a5c-bef6-7ae4a5c6cf5a",
   "metadata": {},
   "source": [
    "## Wrap coordinates for viewing restraints"
   ]
  },
  {
   "cell_type": "markdown",
   "id": "e671835e-006b-4745-95d1-46d656a7de4a",
   "metadata": {},
   "source": [
    "The system doesn't have the ligand wrapped in the unit cell so let's wrap it and then view the restraints"
   ]
  },
  {
   "cell_type": "code",
   "execution_count": 105,
   "id": "926df17a-b554-4094-8f07-515e88860117",
   "metadata": {},
   "outputs": [],
   "source": [
    "import mdtraj as md\n",
    "import nglview as nv"
   ]
  },
  {
   "cell_type": "code",
   "execution_count": 103,
   "id": "34d0e2cd-3af1-4a36-bf01-4a0435b1cd16",
   "metadata": {},
   "outputs": [],
   "source": [
    "traj = md.load(f'{pdb}/production/gromacs.xtc', top=f'{pdb}/production/gromacs.gro')"
   ]
  },
  {
   "cell_type": "code",
   "execution_count": 106,
   "id": "b08f31b7-af8e-405f-a014-ffdcc4a0a961",
   "metadata": {},
   "outputs": [
    {
     "data": {
      "application/vnd.jupyter.widget-view+json": {
       "model_id": "56e64fe3d36c4078868183c8e87a1db7",
       "version_major": 2,
       "version_minor": 0
      },
      "text/plain": [
       "NGLWidget(max_frame=2500)"
      ]
     },
     "metadata": {},
     "output_type": "display_data"
    }
   ],
   "source": [
    "view = nv.show_mdtraj(traj)\n",
    "view"
   ]
  },
  {
   "cell_type": "code",
   "execution_count": 109,
   "id": "bf3a7371-8c5b-450b-9d42-3aa400e22e2b",
   "metadata": {},
   "outputs": [],
   "source": [
    "traj = traj.make_molecules_whole()\n",
    "traj = traj.image_molecules()"
   ]
  },
  {
   "cell_type": "code",
   "execution_count": 110,
   "id": "3e929125-f20e-47d7-b8dc-36fdc8ad11d2",
   "metadata": {},
   "outputs": [
    {
     "data": {
      "application/vnd.jupyter.widget-view+json": {
       "model_id": "95c575c5fd8c45858e704d18f2d885b7",
       "version_major": 2,
       "version_minor": 0
      },
      "text/plain": [
       "NGLWidget(max_frame=2500)"
      ]
     },
     "metadata": {},
     "output_type": "display_data"
    }
   ],
   "source": [
    "view = nv.show_mdtraj(traj)\n",
    "view"
   ]
  },
  {
   "cell_type": "code",
   "execution_count": 122,
   "id": "b303c955-8add-4c66-81c8-6c92c9a90082",
   "metadata": {},
   "outputs": [],
   "source": [
    "traj.save_xtc(f'{pdb}/production/wrapped/gromacs.xtc')\n",
    "\n",
    "traj[0].save_pdb(f'{pdb}/production/wrapped/top.pdb')"
   ]
  },
  {
   "cell_type": "code",
   "execution_count": 123,
   "id": "7a2b7138-b821-43c0-bce8-14a93db26e41",
   "metadata": {},
   "outputs": [
    {
     "name": "stdout",
     "output_type": "stream",
     "text": [
      "Indexing XTC \u001b[37;42m           \u001b[0m \u001b[35m  3.1 s\u001b[0m \u001b[36m126197784.0 bytes / s\u001b[0m          \n"
     ]
    }
   ],
   "source": [
    "system_wrapped = BSS.IO.readMolecules([f'{pdb}/production/wrapped/gromacs.xtc', \n",
    "                                       f'{pdb}/production/wrapped/top.pdb'], make_whole=True)"
   ]
  },
  {
   "cell_type": "code",
   "execution_count": 126,
   "id": "408d2d99-f508-4ebc-9dd8-9fc851acd150",
   "metadata": {
    "scrolled": true
   },
   "outputs": [
    {
     "data": {
      "application/vnd.jupyter.widget-view+json": {
       "model_id": "ae9b2c744efa4a819a8c27d9881abfac",
       "version_major": 2,
       "version_minor": 0
      },
      "text/plain": [
       "NGLWidget(gui_style='ngl')"
      ]
     },
     "metadata": {},
     "output_type": "display_data"
    }
   ],
   "source": [
    "view = BSS.Notebook.View(system_wrapped)\n",
    "view.system()"
   ]
  },
  {
   "cell_type": "markdown",
   "id": "8564bdcc-477c-47fa-ae5a-06342dc7b38e",
   "metadata": {},
   "source": [
    "## Pickle restraint for use later"
   ]
  },
  {
   "cell_type": "code",
   "execution_count": 127,
   "id": "e45f4266-0116-4669-914c-700d4d89bc67",
   "metadata": {},
   "outputs": [],
   "source": [
    "import pickle"
   ]
  },
  {
   "cell_type": "code",
   "execution_count": 128,
   "id": "eef1209f-10f2-43f4-88ca-c4dac9c8ab4f",
   "metadata": {},
   "outputs": [],
   "source": [
    "pickle.dump(restraint, open(f'{pdb}/restraint_search/restraint.pkl', 'wb'))"
   ]
  }
 ],
 "metadata": {
  "kernelspec": {
   "display_name": "Python 3 (ipykernel)",
   "language": "python",
   "name": "python3"
  },
  "language_info": {
   "codemirror_mode": {
    "name": "ipython",
    "version": 3
   },
   "file_extension": ".py",
   "mimetype": "text/x-python",
   "name": "python",
   "nbconvert_exporter": "python",
   "pygments_lexer": "ipython3",
   "version": "3.10.14"
  }
 },
 "nbformat": 4,
 "nbformat_minor": 5
}
