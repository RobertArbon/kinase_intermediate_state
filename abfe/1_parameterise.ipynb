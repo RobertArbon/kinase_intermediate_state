{
 "cells": [
  {
   "cell_type": "code",
   "execution_count": 1,
   "id": "1f708e5a-36b3-4432-9963-914f8f490aed",
   "metadata": {},
   "outputs": [
    {
     "data": {
      "application/vnd.jupyter.widget-view+json": {
       "model_id": "1df9ad10d034467f9a64c45e260e1a7b",
       "version_major": 2,
       "version_minor": 0
      },
      "text/plain": []
     },
     "metadata": {},
     "output_type": "display_data"
    },
    {
     "name": "stderr",
     "output_type": "stream",
     "text": [
      "INFO:rdkit:Enabling RDKit 2023.09.6 jupyter extensions\n",
      "INFO:numexpr.utils:Note: NumExpr detected 12 cores but \"NUMEXPR_MAX_THREADS\" not set, so enforcing safe limit of 8.\n",
      "INFO:numexpr.utils:NumExpr defaulting to 8 threads.\n"
     ]
    }
   ],
   "source": [
    "import BioSimSpace as BSS"
   ]
  },
  {
   "cell_type": "code",
   "execution_count": 2,
   "id": "124689ff-5fde-46d1-9836-060f8949d15e",
   "metadata": {},
   "outputs": [],
   "source": [
    "pdb = '6rna'"
   ]
  },
  {
   "cell_type": "markdown",
   "id": "973a4151-b874-4ff7-b6f5-fe28139bc0e1",
   "metadata": {},
   "source": [
    "Read in and visualise"
   ]
  },
  {
   "cell_type": "code",
   "execution_count": 3,
   "id": "5513504e-6332-4dbb-bda4-d2481021b4d5",
   "metadata": {},
   "outputs": [],
   "source": [
    "protein = BSS.IO.readMolecules(f\"../structures/{pdb}_protein_no_water.pdb\")[0]\n",
    "ligand = BSS.IO.readMolecules(f\"../structures/{pdb}_ligand.sdf\")[0]\n",
    "system = protein + ligand"
   ]
  },
  {
   "cell_type": "code",
   "execution_count": 4,
   "id": "d2a7fa1f-a506-4a34-8059-3bdbc38dea64",
   "metadata": {},
   "outputs": [
    {
     "data": {
      "application/vnd.jupyter.widget-view+json": {
       "model_id": "270ca14310334a3a9ca8fa7a940f3bcc",
       "version_major": 2,
       "version_minor": 0
      },
      "text/plain": [
       "ThemeManager()"
      ]
     },
     "metadata": {},
     "output_type": "display_data"
    },
    {
     "data": {
      "application/vnd.jupyter.widget-view+json": {
       "model_id": "b23e636c71d548beb0f2942c2f5437e9",
       "version_major": 2,
       "version_minor": 0
      },
      "text/plain": [
       "NGLWidget(gui_style='ngl')"
      ]
     },
     "metadata": {},
     "output_type": "display_data"
    }
   ],
   "source": [
    "BSS.Notebook.View(system).system()"
   ]
  },
  {
   "cell_type": "markdown",
   "id": "d9da6cf8-21e5-424d-8e94-61eb1f81cbc6",
   "metadata": {},
   "source": [
    "Parameterise - we'll use the GAFF to maintain compatability with the 'Evolutionary divergence...' paper. Sage 2.2 will be a later sensitivity test. "
   ]
  },
  {
   "cell_type": "code",
   "execution_count": 5,
   "id": "708b3e6b-7ea4-48c0-ae61-4cfa2190c005",
   "metadata": {},
   "outputs": [],
   "source": [
    "ligand_gaff = BSS.Parameters.gaff(ligand).getMolecule()"
   ]
  },
  {
   "cell_type": "code",
   "execution_count": 6,
   "id": "8883db2b-2392-4fdf-ba8b-dab44dbe843b",
   "metadata": {},
   "outputs": [],
   "source": [
    "process = BSS.Parameters.ff14SB(protein)\n",
    "protein_ff14sb = process.getMolecule()"
   ]
  },
  {
   "cell_type": "markdown",
   "id": "c315ccfd-b3f4-4d69-9a39-10f22fc9d836",
   "metadata": {},
   "source": [
    "Solvate in a rhombic docdecahedron box (we need to save on compute!)"
   ]
  },
  {
   "cell_type": "code",
   "execution_count": 7,
   "id": "314ff16c-ea10-4887-8542-674a8a94d5b4",
   "metadata": {},
   "outputs": [
    {
     "name": "stdout",
     "output_type": "stream",
     "text": [
      "[84.7200 A, 84.7200 A, 84.7200 A] [120.0000 degrees, 120.0000 degrees, 90.0000 degrees]\n"
     ]
    }
   ],
   "source": [
    "# Get the minimium and maximum coordinates of the bounding box that\n",
    "# minimally encloses the protein.\n",
    "box_min, box_max = protein.getAxisAlignedBoundingBox()\n",
    "\n",
    "# Work out the box size from the difference in the coordinates.\n",
    "box_size = [y - x for x, y in zip(box_min, box_max)]\n",
    "\n",
    "# How much to pad each side of the protein? (Nonbonded cutoff = 10 A)\n",
    "padding = 12 * BSS.Units.Length.angstrom\n",
    "\n",
    "# Work out an appropriate box. This will used in each dimension to ensure\n",
    "# that the cutoff constraints are satisfied if the molecule rotates.\n",
    "box_length = max(box_size) + 2 * padding\n",
    "\n",
    "box, angles = BSS.Box.rhombicDodecahedronSquare(box_length)\n",
    "print(box, angles)"
   ]
  },
  {
   "cell_type": "code",
   "execution_count": 8,
   "id": "bf37dd71-8e5b-485b-a3df-8b7c01241e51",
   "metadata": {},
   "outputs": [],
   "source": [
    "system = protein_ff14sb + ligand_gaff"
   ]
  },
  {
   "cell_type": "code",
   "execution_count": 9,
   "id": "6b114595-be0f-4488-983d-7ec6caa54ac7",
   "metadata": {},
   "outputs": [],
   "source": [
    "solvated = BSS.Solvent.tip3p(molecule=system, box=box, angles=angles, ion_conc=0.14)"
   ]
  },
  {
   "cell_type": "markdown",
   "id": "ff969913-ba64-4523-bfb6-43414c46cc59",
   "metadata": {},
   "source": [
    "Check what ions have been added, and the total charge. "
   ]
  },
  {
   "cell_type": "code",
   "execution_count": 10,
   "id": "70064071-d064-483f-8213-3bb6cafedb87",
   "metadata": {
    "scrolled": true
   },
   "outputs": [
    {
     "name": "stdout",
     "output_type": "stream",
     "text": [
      "element = Sodium (Na, 11), charge = 1.0000 |e|\n",
      "element = Sodium (Na, 11), charge = 1.0000 |e|\n",
      "element = Sodium (Na, 11), charge = 1.0000 |e|\n",
      "element = Sodium (Na, 11), charge = 1.0000 |e|\n",
      "element = Sodium (Na, 11), charge = 1.0000 |e|\n",
      "element = Sodium (Na, 11), charge = 1.0000 |e|\n",
      "element = Sodium (Na, 11), charge = 1.0000 |e|\n",
      "element = Sodium (Na, 11), charge = 1.0000 |e|\n",
      "element = Sodium (Na, 11), charge = 1.0000 |e|\n",
      "element = Sodium (Na, 11), charge = 1.0000 |e|\n",
      "element = Sodium (Na, 11), charge = 1.0000 |e|\n",
      "element = Sodium (Na, 11), charge = 1.0000 |e|\n",
      "element = Sodium (Na, 11), charge = 1.0000 |e|\n",
      "element = Sodium (Na, 11), charge = 1.0000 |e|\n",
      "element = Sodium (Na, 11), charge = 1.0000 |e|\n",
      "element = Sodium (Na, 11), charge = 1.0000 |e|\n",
      "element = Sodium (Na, 11), charge = 1.0000 |e|\n",
      "element = Sodium (Na, 11), charge = 1.0000 |e|\n",
      "element = Sodium (Na, 11), charge = 1.0000 |e|\n",
      "element = Sodium (Na, 11), charge = 1.0000 |e|\n",
      "element = Sodium (Na, 11), charge = 1.0000 |e|\n",
      "element = Sodium (Na, 11), charge = 1.0000 |e|\n",
      "element = Sodium (Na, 11), charge = 1.0000 |e|\n",
      "element = Sodium (Na, 11), charge = 1.0000 |e|\n",
      "element = Sodium (Na, 11), charge = 1.0000 |e|\n",
      "element = Sodium (Na, 11), charge = 1.0000 |e|\n",
      "element = Sodium (Na, 11), charge = 1.0000 |e|\n",
      "element = Sodium (Na, 11), charge = 1.0000 |e|\n",
      "element = Sodium (Na, 11), charge = 1.0000 |e|\n",
      "element = Sodium (Na, 11), charge = 1.0000 |e|\n",
      "element = Sodium (Na, 11), charge = 1.0000 |e|\n",
      "element = Sodium (Na, 11), charge = 1.0000 |e|\n",
      "element = Sodium (Na, 11), charge = 1.0000 |e|\n",
      "element = Sodium (Na, 11), charge = 1.0000 |e|\n",
      "element = Sodium (Na, 11), charge = 1.0000 |e|\n",
      "element = Sodium (Na, 11), charge = 1.0000 |e|\n",
      "element = Sodium (Na, 11), charge = 1.0000 |e|\n",
      "element = Sodium (Na, 11), charge = 1.0000 |e|\n",
      "element = Sodium (Na, 11), charge = 1.0000 |e|\n",
      "element = Chlorine (Cl, 17), charge = -1.0000 |e|\n",
      "element = Chlorine (Cl, 17), charge = -1.0000 |e|\n",
      "element = Chlorine (Cl, 17), charge = -1.0000 |e|\n",
      "element = Chlorine (Cl, 17), charge = -1.0000 |e|\n",
      "element = Chlorine (Cl, 17), charge = -1.0000 |e|\n",
      "element = Chlorine (Cl, 17), charge = -1.0000 |e|\n",
      "element = Chlorine (Cl, 17), charge = -1.0000 |e|\n",
      "element = Chlorine (Cl, 17), charge = -1.0000 |e|\n",
      "element = Chlorine (Cl, 17), charge = -1.0000 |e|\n",
      "element = Chlorine (Cl, 17), charge = -1.0000 |e|\n",
      "element = Chlorine (Cl, 17), charge = -1.0000 |e|\n",
      "element = Chlorine (Cl, 17), charge = -1.0000 |e|\n",
      "element = Chlorine (Cl, 17), charge = -1.0000 |e|\n",
      "element = Chlorine (Cl, 17), charge = -1.0000 |e|\n",
      "element = Chlorine (Cl, 17), charge = -1.0000 |e|\n",
      "element = Chlorine (Cl, 17), charge = -1.0000 |e|\n",
      "element = Chlorine (Cl, 17), charge = -1.0000 |e|\n",
      "element = Chlorine (Cl, 17), charge = -1.0000 |e|\n",
      "element = Chlorine (Cl, 17), charge = -1.0000 |e|\n",
      "element = Chlorine (Cl, 17), charge = -1.0000 |e|\n",
      "element = Chlorine (Cl, 17), charge = -1.0000 |e|\n",
      "element = Chlorine (Cl, 17), charge = -1.0000 |e|\n",
      "element = Chlorine (Cl, 17), charge = -1.0000 |e|\n",
      "element = Chlorine (Cl, 17), charge = -1.0000 |e|\n",
      "element = Chlorine (Cl, 17), charge = -1.0000 |e|\n",
      "element = Chlorine (Cl, 17), charge = -1.0000 |e|\n",
      "element = Chlorine (Cl, 17), charge = -1.0000 |e|\n",
      "element = Chlorine (Cl, 17), charge = -1.0000 |e|\n",
      "element = Chlorine (Cl, 17), charge = -1.0000 |e|\n",
      "element = Chlorine (Cl, 17), charge = -1.0000 |e|\n",
      "element = Chlorine (Cl, 17), charge = -1.0000 |e|\n",
      "element = Chlorine (Cl, 17), charge = -1.0000 |e|\n",
      "element = Chlorine (Cl, 17), charge = -1.0000 |e|\n",
      "element = Chlorine (Cl, 17), charge = -1.0000 |e|\n",
      "element = Chlorine (Cl, 17), charge = -1.0000 |e|\n",
      "element = Chlorine (Cl, 17), charge = -1.0000 |e|\n"
     ]
    }
   ],
   "source": [
    "# Search for all free ions. As a simple search, we look for all molecules\n",
    "# that only contain a single atom.\n",
    "search = solvated.search(\"not mols with atomidx 2\")\n",
    "\n",
    "# Print all ions and their charge.\n",
    "for ion in search.atoms():\n",
    "    print(f\"element = {ion.element()}, charge = {ion.charge()}\")"
   ]
  },
  {
   "cell_type": "code",
   "execution_count": 11,
   "id": "99af6df9-3eb6-4fc6-af4e-119f01eb8806",
   "metadata": {},
   "outputs": [
    {
     "name": "stdout",
     "output_type": "stream",
     "text": [
      "solvated = -1.2457e-07 |e|, protein = -3.0000 |e|, ligand = -3.8858e-16 |e|\n"
     ]
    }
   ],
   "source": [
    "print(f\"solvated = {solvated.charge()}, protein = {protein_ff14sb.charge()}, ligand = {ligand_gaff.charge()}\")"
   ]
  },
  {
   "cell_type": "code",
   "execution_count": 12,
   "id": "fd4ef925-ff50-4c7e-b13a-2cbbf82efdd4",
   "metadata": {},
   "outputs": [
    {
     "data": {
      "application/vnd.jupyter.widget-view+json": {
       "model_id": "e825b278614141f6ab4af5f478ada66c",
       "version_major": 2,
       "version_minor": 0
      },
      "text/plain": [
       "NGLWidget(gui_style='ngl')"
      ]
     },
     "metadata": {},
     "output_type": "display_data"
    }
   ],
   "source": [
    "view = BSS.Notebook.View(solvated)\n",
    "view.system()"
   ]
  },
  {
   "cell_type": "code",
   "execution_count": 14,
   "id": "c6efe9b6-0100-4a0c-abf9-6678a02cf4e9",
   "metadata": {},
   "outputs": [
    {
     "data": {
      "text/plain": [
       "['/home/lex/Research/kinase_intermediate_state/abfe/6rna/solvated.prm7',\n",
       " '/home/lex/Research/kinase_intermediate_state/abfe/6rna/solvated.rst7']"
      ]
     },
     "execution_count": 14,
     "metadata": {},
     "output_type": "execute_result"
    }
   ],
   "source": [
    "BSS.IO.saveMolecules(f\"{pdb}/solvated\", solvated, [\"prm7\", \"rst7\"])"
   ]
  },
  {
   "cell_type": "code",
   "execution_count": null,
   "id": "9520e952-6cf6-4855-8eeb-856a5050f750",
   "metadata": {},
   "outputs": [],
   "source": []
  }
 ],
 "metadata": {
  "kernelspec": {
   "display_name": "Python 3 (ipykernel)",
   "language": "python",
   "name": "python3"
  },
  "language_info": {
   "codemirror_mode": {
    "name": "ipython",
    "version": 3
   },
   "file_extension": ".py",
   "mimetype": "text/x-python",
   "name": "python",
   "nbconvert_exporter": "python",
   "pygments_lexer": "ipython3",
   "version": "3.10.14"
  }
 },
 "nbformat": 4,
 "nbformat_minor": 5
}
