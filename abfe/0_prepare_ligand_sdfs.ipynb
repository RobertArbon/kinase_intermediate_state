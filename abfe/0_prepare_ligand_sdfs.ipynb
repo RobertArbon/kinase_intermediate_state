{
 "cells": [
  {
   "cell_type": "code",
   "execution_count": 1,
   "id": "e3c284c1-9e83-4c8b-a145-4969ea982d71",
   "metadata": {},
   "outputs": [
    {
     "name": "stderr",
     "output_type": "stream",
     "text": [
      "<frozen importlib._bootstrap>:241: RuntimeWarning: to-Python converter for std::vector<double, std::allocator<double> > already registered; second conversion method ignored.\n"
     ]
    },
    {
     "data": {
      "application/vnd.jupyter.widget-view+json": {
       "model_id": "806ea5642384422e9de0dad4057919ae",
       "version_major": 2,
       "version_minor": 0
      },
      "text/plain": []
     },
     "metadata": {},
     "output_type": "display_data"
    },
    {
     "name": "stderr",
     "output_type": "stream",
     "text": [
      "INFO:numexpr.utils:Note: NumExpr detected 12 cores but \"NUMEXPR_MAX_THREADS\" not set, so enforcing safe limit of 8.\n",
      "INFO:numexpr.utils:NumExpr defaulting to 8 threads.\n"
     ]
    }
   ],
   "source": [
    "from rdkit import Chem\n",
    "import BioSimSpace as BSS\n",
    "from rdkit.Chem import rdFMCS, AllChem\n",
    "import math"
   ]
  },
  {
   "cell_type": "markdown",
   "id": "796749f6-7ebf-4c10-813b-394d4d74ffb4",
   "metadata": {},
   "source": [
    "This notebook extracts the ligands from protein-ligand simulations snapshots. The two simulated structures are: \n",
    "1. GSK559 using PDB: 6RNA (DFG-in)\n",
    "2. GSK583 using PDB: 5J7B (DFG-inter)\n",
    "\n",
    "The problem this notebook solves is that the topology of the ligand in the PDB is lost, so the idea is to use the ligand SDF from PDB and do a constrained embed of its positions (including hydrogen atoms). \n",
    "\n",
    "- MD Snapshots are labelled: `[PDB]_pl_complex_no_water.pdb`\n",
    "- Ligand / protein PDBs are separated by copying and pasting into two separate files: `[PDB]_ligand/protein_no_water.pdb`\n",
    "- Ligand SDFs from PDB are labelled: `[PDB]_reference_ligand.sdf`\n",
    "- The final ligand is labelled `[PDB]_ligand.sdf`\n",
    "\n"
   ]
  },
  {
   "cell_type": "markdown",
   "id": "f27f03e5-c387-4d13-bb09-4c7f4abbd818",
   "metadata": {},
   "source": [
    "Let's have a look using the nice NGLViewer function in BSS"
   ]
  },
  {
   "cell_type": "code",
   "execution_count": 2,
   "id": "970805c2-bd85-465f-8b5b-ccb49d257be3",
   "metadata": {},
   "outputs": [],
   "source": [
    "pdb = '5j7b'"
   ]
  },
  {
   "cell_type": "code",
   "execution_count": 3,
   "id": "3c09352d-e262-4659-9686-8cede5879b35",
   "metadata": {},
   "outputs": [
    {
     "data": {
      "application/vnd.jupyter.widget-view+json": {
       "model_id": "0e758beb0e1c4b61bf57571b3b08236b",
       "version_major": 2,
       "version_minor": 0
      },
      "text/plain": [
       "ThemeManager()"
      ]
     },
     "metadata": {},
     "output_type": "display_data"
    },
    {
     "data": {
      "application/vnd.jupyter.widget-view+json": {
       "model_id": "1ffb88a6ee1a47a5a880c20d3e8e95c9",
       "version_major": 2,
       "version_minor": 0
      },
      "text/plain": [
       "NGLWidget(gui_style='ngl')"
      ]
     },
     "metadata": {},
     "output_type": "display_data"
    }
   ],
   "source": [
    "lig = BSS.IO.readMolecules(f'../structures/{pdb}_ligand_no_water.pdb')[0]\n",
    "BSS.Notebook.View(lig).system()"
   ]
  },
  {
   "cell_type": "markdown",
   "id": "c964f5e2-48b1-439f-ad87-426c506dbfe6",
   "metadata": {},
   "source": [
    "Looks good, now read in using RDKit"
   ]
  },
  {
   "cell_type": "code",
   "execution_count": 4,
   "id": "1bad7807-0dd7-4f8d-892f-df35c8f45d9f",
   "metadata": {},
   "outputs": [
    {
     "data": {
      "image/png": "[encoded data removed]",
      "text/plain": [
       "<rdkit.Chem.rdchem.Mol at 0x782cdc781230>"
      ]
     },
     "execution_count": 4,
     "metadata": {},
     "output_type": "execute_result"
    }
   ],
   "source": [
    "mol = Chem.MolFromPDBFile(f'../structures/{pdb}_ligand_no_water.pdb')\n",
    "mol"
   ]
  },
  {
   "cell_type": "markdown",
   "id": "f622023c-fcfc-4b88-b51f-40812837ba9a",
   "metadata": {},
   "source": [
    "Read in the ligand from the PDB:  "
   ]
  },
  {
   "cell_type": "code",
   "execution_count": 5,
   "id": "1cf74521-f78f-4f91-86dc-01247dc888b3",
   "metadata": {},
   "outputs": [],
   "source": [
    "ref = Chem.SDMolSupplier(f'../structures/{pdb}_reference_ligand.sdf')[0]\n",
    "ref = Chem.AddHs(ref)\n"
   ]
  },
  {
   "cell_type": "markdown",
   "id": "72a17e10-804d-4eb9-bf35-f0bf03b20a29",
   "metadata": {},
   "source": [
    "Get the core structure (i.e., heavy atoms) and the mapping"
   ]
  },
  {
   "cell_type": "code",
   "execution_count": 6,
   "id": "fecc10a4-2ce0-4797-81df-042cce86fbca",
   "metadata": {},
   "outputs": [
    {
     "data": {
      "image/png": "[encoded data removed]",
      "text/plain": [
       "<rdkit.Chem.rdchem.Mol at 0x782cdc781070>"
      ]
     },
     "execution_count": 6,
     "metadata": {},
     "output_type": "execute_result"
    }
   ],
   "source": [
    "params = rdFMCS.MCSParameters()\n",
    "params.AtomTyper = rdFMCS.AtomCompare.CompareAny\n",
    "params.BondTyper =rdFMCS.BondCompare.CompareAny\n",
    "params.BondCompareParameters.RingMatchesRingOnly = True\n",
    "params.BondCompareParameters.CompleteRingsOnly = True\n",
    "\n",
    "res = rdFMCS.FindMCS([mol, ref], params)\n",
    "core = Chem.MolFromSmarts(res.smartsString)\n",
    "\n",
    "core"
   ]
  },
  {
   "cell_type": "code",
   "execution_count": 7,
   "id": "4e45c3bf-2f47-4916-9457-e7aa2c95b72c",
   "metadata": {},
   "outputs": [],
   "source": [
    "atom_map =  {i:j for i, j in enumerate(ref.GetSubstructMatch(core))}"
   ]
  },
  {
   "cell_type": "markdown",
   "id": "1dfa1ce1-cd8a-4942-bef9-b992bfbd5018",
   "metadata": {},
   "source": [
    "Create the coordinate map: "
   ]
  },
  {
   "cell_type": "code",
   "execution_count": 8,
   "id": "e8fb011d-01a3-4e4d-b8b8-9bbe6bde0fcd",
   "metadata": {},
   "outputs": [
    {
     "data": {
      "text/plain": [
       "{14: <rdkit.Geometry.rdGeometry.Point3D at 0x782cdc759c40>,\n",
       " 16: <rdkit.Geometry.rdGeometry.Point3D at 0x782cdc759fc0>,\n",
       " 11: <rdkit.Geometry.rdGeometry.Point3D at 0x782cdc759ec0>,\n",
       " 10: <rdkit.Geometry.rdGeometry.Point3D at 0x782cdc75a040>,\n",
       " 12: <rdkit.Geometry.rdGeometry.Point3D at 0x782cdc75a0c0>,\n",
       " 13: <rdkit.Geometry.rdGeometry.Point3D at 0x782cdc75a140>,\n",
       " 15: <rdkit.Geometry.rdGeometry.Point3D at 0x782cdc75a1c0>,\n",
       " 17: <rdkit.Geometry.rdGeometry.Point3D at 0x782cdc75a240>,\n",
       " 18: <rdkit.Geometry.rdGeometry.Point3D at 0x782cdc75a2c0>,\n",
       " 0: <rdkit.Geometry.rdGeometry.Point3D at 0x782cdc75a340>,\n",
       " 19: <rdkit.Geometry.rdGeometry.Point3D at 0x782cdc75a3c0>,\n",
       " 27: <rdkit.Geometry.rdGeometry.Point3D at 0x782cdc75a440>,\n",
       " 9: <rdkit.Geometry.rdGeometry.Point3D at 0x782cdc75a4c0>,\n",
       " 3: <rdkit.Geometry.rdGeometry.Point3D at 0x782cdc75a540>,\n",
       " 20: <rdkit.Geometry.rdGeometry.Point3D at 0x782cdc75a5c0>,\n",
       " 2: <rdkit.Geometry.rdGeometry.Point3D at 0x782cdc75a640>,\n",
       " 1: <rdkit.Geometry.rdGeometry.Point3D at 0x782cdc75a6c0>,\n",
       " 21: <rdkit.Geometry.rdGeometry.Point3D at 0x782cdc75a740>,\n",
       " 4: <rdkit.Geometry.rdGeometry.Point3D at 0x782cdc75a7c0>,\n",
       " 22: <rdkit.Geometry.rdGeometry.Point3D at 0x782cdc75a840>,\n",
       " 23: <rdkit.Geometry.rdGeometry.Point3D at 0x782cdc75a8c0>,\n",
       " 5: <rdkit.Geometry.rdGeometry.Point3D at 0x782cdc75a940>,\n",
       " 8: <rdkit.Geometry.rdGeometry.Point3D at 0x782cdc75a9c0>,\n",
       " 26: <rdkit.Geometry.rdGeometry.Point3D at 0x782cdc75aa40>,\n",
       " 24: <rdkit.Geometry.rdGeometry.Point3D at 0x782cdc75aac0>,\n",
       " 7: <rdkit.Geometry.rdGeometry.Point3D at 0x782cdc75ab40>,\n",
       " 6: <rdkit.Geometry.rdGeometry.Point3D at 0x782cdc75abc0>,\n",
       " 25: <rdkit.Geometry.rdGeometry.Point3D at 0x782cdc75ac40>}"
      ]
     },
     "execution_count": 8,
     "metadata": {},
     "output_type": "execute_result"
    }
   ],
   "source": [
    "mol_match = mol.GetSubstructMatch(core)\n",
    "ref_match = ref.GetSubstructMatch(core)\n",
    "cmap = {ref_match[i]: mol.GetConformer().GetAtomPosition(mol_match[i]) for i in range(len(mol_match))}\n",
    "cmap"
   ]
  },
  {
   "cell_type": "code",
   "execution_count": 9,
   "id": "c1439260-d62c-43b1-99d8-9072fb45826b",
   "metadata": {},
   "outputs": [
    {
     "data": {
      "text/plain": [
       "0.0"
      ]
     },
     "execution_count": 9,
     "metadata": {},
     "output_type": "execute_result"
    }
   ],
   "source": [
    "AllChem.EmbedMolecule(ref, coordMap=cmap, useRandomCoords=True)\n",
    "AllChem.AlignMol(ref,mol,atomMap = list(zip(ref_match,mol_match)))"
   ]
  },
  {
   "cell_type": "code",
   "execution_count": 10,
   "id": "ec185b6b-db6a-422d-8633-e64ecdcaf523",
   "metadata": {},
   "outputs": [
    {
     "data": {
      "image/png": "[encoded data removed]",
      "text/html": [
       "<table><tr><td colspan=\"2\" style=\"text-align: center;\"><image src=\"data:image/png;base64,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\"></td></tr>\n",
       "<tr><th style=\"text-align: right\">model_server_result.job_id</th><td style=\"text-align: left\">oaj5SHxSEEpHJvPwzuphRA</td></tr>\n",
       "<tr><th style=\"text-align: right\">model_server_result.datetime_utc</th><td style=\"text-align: left\">2024-06-29 15:49:19</td></tr>\n",
       "<tr><th style=\"text-align: right\">model_server_result.server_version</th><td style=\"text-align: left\">0.9.11</td></tr>\n",
       "<tr><th style=\"text-align: right\">model_server_result.query_name</th><td style=\"text-align: left\">ligand</td></tr>\n",
       "<tr><th style=\"text-align: right\">model_server_result.source_id</th><td style=\"text-align: left\">pdb-bcif</td></tr>\n",
       "<tr><th style=\"text-align: right\">model_server_result.entry_id</th><td style=\"text-align: left\">5j7b</td></tr>\n",
       "<tr><th style=\"text-align: right\">model_server_params.name</th><td style=\"text-align: left\">atom_site</td></tr>\n",
       "<tr><th style=\"text-align: right\">model_server_params.value</th><td style=\"text-align: left\">{&quot;label_asym_id&quot;:&quot;C&quot;,&quot;auth_seq_id&quot;:401}</td></tr>\n",
       "<tr><th style=\"text-align: right\">model_server_stats.io_time_ms</th><td style=\"text-align: left\">2</td></tr>\n",
       "<tr><th style=\"text-align: right\">model_server_stats.parse_time_ms</th><td style=\"text-align: left\">62</td></tr>\n",
       "<tr><td colspan=\"2\" style=\"text-align: center\">Property list truncated.<br />Increase IPythonConsole.ipython_maxProperties (or set it to -1) to see more properties.</td></tr></table>"
      ],
      "text/plain": [
       "<rdkit.Chem.rdchem.Mol at 0x782cdc780ba0>"
      ]
     },
     "execution_count": 10,
     "metadata": {},
     "output_type": "execute_result"
    }
   ],
   "source": [
    "ref"
   ]
  },
  {
   "cell_type": "code",
   "execution_count": 11,
   "id": "9cc0fb4e-d03d-427c-afad-a2fc6137360e",
   "metadata": {},
   "outputs": [],
   "source": [
    "Chem.SDWriter(f'../structures/{pdb}_ligand.sdf').write(ref)"
   ]
  },
  {
   "cell_type": "markdown",
   "id": "56795f89-8f28-46cc-b4db-307a8f6ba10b",
   "metadata": {},
   "source": [
    "Compare the structures. "
   ]
  },
  {
   "cell_type": "code",
   "execution_count": 13,
   "id": "a53c6a6c-9d1f-4001-8ddc-d988efc5fa13",
   "metadata": {},
   "outputs": [
    {
     "data": {
      "application/vnd.jupyter.widget-view+json": {
       "model_id": "67c4593c8981443b88f2f296b291ffbf",
       "version_major": 2,
       "version_minor": 0
      },
      "text/plain": [
       "NGLWidget(gui_style='ngl')"
      ]
     },
     "metadata": {},
     "output_type": "display_data"
    }
   ],
   "source": [
    "lig = BSS.IO.readMolecules(f'../structures/{pdb}_ligand_no_water.pdb')[0]\n",
    "new_lig = BSS.IO.readMolecules(f'../structures/{pdb}_ligand.sdf')[0]\n",
    "compare = lig + new_lig\n",
    "BSS.Notebook.View(compare).system()"
   ]
  }
 ],
 "metadata": {
  "kernelspec": {
   "display_name": "Python 3 (ipykernel)",
   "language": "python",
   "name": "python3"
  },
  "language_info": {
   "codemirror_mode": {
    "name": "ipython",
    "version": 3
   },
   "file_extension": ".py",
   "mimetype": "text/x-python",
   "name": "python",
   "nbconvert_exporter": "python",
   "pygments_lexer": "ipython3",
   "version": "3.10.14"
  }
 },
 "nbformat": 4,
 "nbformat_minor": 5
}
