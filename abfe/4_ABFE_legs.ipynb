{
 "cells": [
  {
   "cell_type": "code",
   "execution_count": 3,
   "id": "c1c65487-15ee-4387-a54d-8e3ea67bc4a5",
   "metadata": {},
   "outputs": [],
   "source": [
    "import BioSimSpace.Sandpit.Exscientia as BSS\n",
    "import numpy as np\n",
    "import pandas as pd\n",
    "from pathlib import Path\n",
    "import pickle as pk"
   ]
  },
  {
   "cell_type": "code",
   "execution_count": 4,
   "id": "47976261-eed4-4b4c-b83a-6994a18e7c44",
   "metadata": {},
   "outputs": [],
   "source": [
    "pdb = '6rna'"
   ]
  },
  {
   "cell_type": "markdown",
   "id": "f8634365-dd1e-4c24-ac59-cea22f3d0cad",
   "metadata": {},
   "source": [
    "# Load restraint/system"
   ]
  },
  {
   "cell_type": "code",
   "execution_count": 9,
   "id": "89bfe2fb-dac5-42cd-bf93-85cce59fba9e",
   "metadata": {},
   "outputs": [],
   "source": [
    "restraint = pk.load(open(f\"{pdb}/restraint_search/restraint.pkl\", 'rb'))"
   ]
  },
  {
   "cell_type": "code",
   "execution_count": 10,
   "id": "89f7ca9b-760e-43b4-8436-9f1e98187fed",
   "metadata": {},
   "outputs": [],
   "source": [
    "# # Set up restraining stage\n",
    "# lam_vals_restrain = [0.000, 0.250, 0.500, 1.000]\n",
    "# restrain_protocol = BSS.Protocol.FreeEnergy(\n",
    "#     runtime=6 * BSS.Units.Time.nanosecond,\n",
    "#     lam_vals=lam_vals_restrain,\n",
    "#     perturbation_type=\"restraint\",\n",
    "# )\n",
    "# restrain_fe_calc = BSS.FreeEnergy.AlchemicalFreeEnergy(\n",
    "#     restraint.system,\n",
    "#     restrain_protocol,\n",
    "#     engine=\"somd\",\n",
    "#     restraint=restraint,\n",
    "#     work_dir=f\"{pdb}/output/restrain\",\n",
    "# )\n"
   ]
  },
  {
   "cell_type": "code",
   "execution_count": null,
   "id": "f88da55c-a254-42a8-ac2b-7eef372fa683",
   "metadata": {},
   "outputs": [],
   "source": []
  }
 ],
 "metadata": {
  "kernelspec": {
   "display_name": "Python 3 (ipykernel)",
   "language": "python",
   "name": "python3"
  },
  "language_info": {
   "codemirror_mode": {
    "name": "ipython",
    "version": 3
   },
   "file_extension": ".py",
   "mimetype": "text/x-python",
   "name": "python",
   "nbconvert_exporter": "python",
   "pygments_lexer": "ipython3",
   "version": "3.10.14"
  }
 },
 "nbformat": 4,
 "nbformat_minor": 5
}
