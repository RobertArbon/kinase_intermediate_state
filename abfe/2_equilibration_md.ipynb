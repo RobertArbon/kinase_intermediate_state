{
 "cells": [
  {
   "cell_type": "code",
   "execution_count": 1,
   "id": "04ee6e9b-c263-4222-adb4-ad47b78cde87",
   "metadata": {},
   "outputs": [
    {
     "data": {
      "application/vnd.jupyter.widget-view+json": {
       "model_id": "d0daceabad8145d696ac7f1e1b00a002",
       "version_major": 2,
       "version_minor": 0
      },
      "text/plain": []
     },
     "metadata": {},
     "output_type": "display_data"
    },
    {
     "name": "stderr",
     "output_type": "stream",
     "text": [
      "INFO:rdkit:Enabling RDKit 2023.09.6 jupyter extensions\n",
      "INFO:numexpr.utils:Note: NumExpr detected 12 cores but \"NUMEXPR_MAX_THREADS\" not set, so enforcing safe limit of 8.\n",
      "INFO:numexpr.utils:NumExpr defaulting to 8 threads.\n"
     ]
    }
   ],
   "source": [
    "import BioSimSpace.Sandpit.Exscientia as BSS\n",
    "import numpy as np\n",
    "import pandas as pd"
   ]
  },
  {
   "cell_type": "code",
   "execution_count": 2,
   "id": "3ded76d5-1835-4e33-af20-b4ff68a483b6",
   "metadata": {},
   "outputs": [],
   "source": [
    "pdb = '6rna'"
   ]
  },
  {
   "cell_type": "code",
   "execution_count": 14,
   "id": "27765f4c-024b-4ea3-832f-083d3766be00",
   "metadata": {},
   "outputs": [],
   "source": [
    "system = BSS.IO.readMolecules(f\"{pdb}/solvated/*\")"
   ]
  },
  {
   "cell_type": "markdown",
   "id": "691d4b7e-7fde-4a9d-8076-e97657cae58b",
   "metadata": {},
   "source": [
    "We will need to run a minimization, equilibration and production protocol"
   ]
  },
  {
   "cell_type": "markdown",
   "id": "34ba247e-59e5-4732-90b2-523fc6393b08",
   "metadata": {},
   "source": [
    "## Minimization"
   ]
  },
  {
   "cell_type": "code",
   "execution_count": 15,
   "id": "221bed0e-ac30-4628-937b-df4ab64734e2",
   "metadata": {},
   "outputs": [],
   "source": [
    "protocol = BSS.Protocol.Minimisation(steps=20000)\n",
    "process = BSS.Process.Gromacs(system, protocol, work_dir=f'{pdb}/minimisation')"
   ]
  },
  {
   "cell_type": "code",
   "execution_count": 16,
   "id": "f8a108dd-b863-443d-bde9-62526550e219",
   "metadata": {},
   "outputs": [
    {
     "data": {
      "text/plain": [
       "BioSimSpace.Process.Gromacs(<BioSimSpace.System: nMolecules=12438>, BioSimSpace.Protocol.Minimisation(steps=20000, restraint=None, force_constant=10.0 kcal_per_mol/angstrom**2), exe='/home/lex/miniforge3/envs/bss/bin.AVX2_256/gmx_mpi', name='gromacs', work_dir='/home/lex/Research/kinase_intermediate_state/abfe/6rna/minimisation', seed=None)"
      ]
     },
     "execution_count": 16,
     "metadata": {},
     "output_type": "execute_result"
    }
   ],
   "source": [
    "process.start()"
   ]
  },
  {
   "cell_type": "code",
   "execution_count": 17,
   "id": "3a4a08af-4c69-49a6-b1fd-0c8aa4111418",
   "metadata": {},
   "outputs": [],
   "source": [
    "minimised = process.getSystem(block=True)"
   ]
  },
  {
   "cell_type": "code",
   "execution_count": 21,
   "id": "cc211aaf-a9bf-473d-8bc5-a42850d9c197",
   "metadata": {},
   "outputs": [
    {
     "data": {
      "text/plain": [
       "['/home/lex/Research/kinase_intermediate_state/abfe/6rna/minimisation/final/final.gro',\n",
       " '/home/lex/Research/kinase_intermediate_state/abfe/6rna/minimisation/final/final.top']"
      ]
     },
     "execution_count": 21,
     "metadata": {},
     "output_type": "execute_result"
    }
   ],
   "source": [
    "BSS.IO.saveMolecules(f'{pdb}/minimisation/final/final', minimised, ['gro87', 'grotop'])"
   ]
  },
  {
   "cell_type": "code",
   "execution_count": 22,
   "id": "f3ff1192-9c42-4e06-aa0b-dcd482c35d5d",
   "metadata": {},
   "outputs": [],
   "source": [
    "minimised = BSS.IO.readMolecules(f'{pdb}/minimisation/final/*', make_whole=True)"
   ]
  },
  {
   "cell_type": "code",
   "execution_count": 23,
   "id": "4f5924d8-8735-4b16-8f00-e01844d7b994",
   "metadata": {},
   "outputs": [
    {
     "data": {
      "application/vnd.jupyter.widget-view+json": {
       "model_id": "da032db073874da584d86f97c7bbd176",
       "version_major": 2,
       "version_minor": 0
      },
      "text/plain": [
       "NGLWidget(gui_style='ngl')"
      ]
     },
     "metadata": {},
     "output_type": "display_data"
    }
   ],
   "source": [
    "BSS.Notebook.View(minimised).system()"
   ]
  },
  {
   "cell_type": "markdown",
   "id": "d0298728-819d-43e9-ac18-39d2ebef8c51",
   "metadata": {},
   "source": [
    "## Heating"
   ]
  },
  {
   "cell_type": "code",
   "execution_count": 25,
   "id": "d8a6ff1b-7011-4567-a48d-6374abd77a88",
   "metadata": {},
   "outputs": [],
   "source": [
    "heat_prot = BSS.Protocol.Equilibration(timestep = 2*BSS.Units.Time.femtosecond, \n",
    "                                       runtime = 1*BSS.Units.Time.nanosecond,\n",
    "                                       temperature_start = 100*BSS.Units.Temperature.kelvin, \n",
    "                                       temperature_end = 300*BSS.Units.Temperature.kelvin, \n",
    "                                       restraint='backbone')\n",
    "heat_proc = BSS.Process.Gromacs(minimised, heat_prot, work_dir=f'{pdb}/heating')\n",
    "                                       "
   ]
  },
  {
   "cell_type": "code",
   "execution_count": 26,
   "id": "b59c8c9f-e441-44e4-8653-8854e84d3ea5",
   "metadata": {},
   "outputs": [
    {
     "data": {
      "text/plain": [
       "BioSimSpace.Process.Gromacs(<BioSimSpace.System: nMolecules=12438>, BioSimSpace.Protocol.Equilibration(timestep=2.0000 fs, runtime=1.0000 ns, temperature_start=100.0000 K, temperature_end=300.0000 K, pressure=None, tau_t=1.0000 ps, report_interval=200, restart_interval=1000, restart=False, restraint=backbone, force_constant=10.0 kcal_per_mol/angstrom**2), exe='/home/lex/miniforge3/envs/bss/bin.AVX2_256/gmx_mpi', name='gromacs', work_dir='/home/lex/Research/kinase_intermediate_state/abfe/6rna/heating', seed=None)"
      ]
     },
     "execution_count": 26,
     "metadata": {},
     "output_type": "execute_result"
    }
   ],
   "source": [
    "heat_proc.start()"
   ]
  },
  {
   "cell_type": "code",
   "execution_count": 27,
   "id": "44ee0538-15c6-462f-8a41-3b3fb89cf325",
   "metadata": {},
   "outputs": [],
   "source": [
    "heated = heat_proc.getSystem(block=True)"
   ]
  },
  {
   "cell_type": "code",
   "execution_count": 28,
   "id": "60deba10-fd98-4a18-99a4-7b16f1cb7859",
   "metadata": {},
   "outputs": [
    {
     "data": {
      "text/plain": [
       "['/home/lex/Research/kinase_intermediate_state/abfe/6rna/heating/final/final.gro',\n",
       " '/home/lex/Research/kinase_intermediate_state/abfe/6rna/heating/final/final.top']"
      ]
     },
     "execution_count": 28,
     "metadata": {},
     "output_type": "execute_result"
    }
   ],
   "source": [
    "BSS.IO.saveMolecules(f'{pdb}/heating/final/final', heated, ['gro87', 'grotop'])"
   ]
  },
  {
   "cell_type": "code",
   "execution_count": 29,
   "id": "c048ceab-4454-471d-b79f-ee0bbc33853b",
   "metadata": {},
   "outputs": [],
   "source": [
    "heated = BSS.IO.readMolecules(f'{pdb}/heating/final/*', make_whole=True)"
   ]
  },
  {
   "cell_type": "code",
   "execution_count": 31,
   "id": "2d16244c-77e4-405e-a3c4-6b78fb31a1dc",
   "metadata": {},
   "outputs": [
    {
     "data": {
      "application/vnd.jupyter.widget-view+json": {
       "model_id": "57e9d310305347d485c72f0149a82d74",
       "version_major": 2,
       "version_minor": 0
      },
      "text/plain": [
       "NGLWidget(gui_style='ngl')"
      ]
     },
     "metadata": {},
     "output_type": "display_data"
    }
   ],
   "source": [
    "BSS.Notebook.View(heated).system()"
   ]
  },
  {
   "cell_type": "markdown",
   "id": "a2d6cefe-3221-44a7-b768-e8e489c06362",
   "metadata": {},
   "source": [
    "## Equilibration - with restraints\n"
   ]
  },
  {
   "cell_type": "code",
   "execution_count": 32,
   "id": "97229305-071e-48d1-a6ac-3c722a57e6f0",
   "metadata": {},
   "outputs": [],
   "source": [
    "equil_res_prot = BSS.Protocol.Equilibration(timestep = 2*BSS.Units.Time.femtosecond, \n",
    "                                            runtime=0.5*BSS.Units.Time.nanosecond, \n",
    "                                            temperature=300*BSS.Units.Temperature.kelvin, \n",
    "                                            pressure=1*BSS.Units.Pressure.atm, \n",
    "                                            restraint='backbone')\n",
    "equil_res_proc = BSS.Process.Gromacs(heated, equil_res_prot, work_dir=f'{pdb}/equil_res')"
   ]
  },
  {
   "cell_type": "code",
   "execution_count": 33,
   "id": "498489c9-868a-4cb0-ba06-0d16f5b1f59f",
   "metadata": {},
   "outputs": [],
   "source": [
    "equil_res_proc.start()\n",
    "equil_res = equil_res_proc.getSystem(block=True) "
   ]
  },
  {
   "cell_type": "code",
   "execution_count": 34,
   "id": "7467ab4b-291f-488c-9645-6c61c22b7039",
   "metadata": {},
   "outputs": [
    {
     "data": {
      "text/plain": [
       "['/home/lex/Research/kinase_intermediate_state/abfe/6rna/equil_res/final/final.gro',\n",
       " '/home/lex/Research/kinase_intermediate_state/abfe/6rna/equil_res/final/final.top']"
      ]
     },
     "execution_count": 34,
     "metadata": {},
     "output_type": "execute_result"
    }
   ],
   "source": [
    "BSS.IO.saveMolecules(f'{pdb}/equil_res/final/final', equil_res, ['gro87', 'grotop'])"
   ]
  },
  {
   "cell_type": "code",
   "execution_count": 35,
   "id": "40814b23-a259-450b-88d9-d096a30122b4",
   "metadata": {},
   "outputs": [
    {
     "data": {
      "application/vnd.jupyter.widget-view+json": {
       "model_id": "c0b9469c61d24db7acfc1d0a6fd33438",
       "version_major": 2,
       "version_minor": 0
      },
      "text/plain": [
       "NGLWidget(gui_style='ngl')"
      ]
     },
     "metadata": {},
     "output_type": "display_data"
    }
   ],
   "source": [
    "equil_res = BSS.IO.readMolecules(f'{pdb}/equil_res/final/*', make_whole=True)\n",
    "BSS.Notebook.View(equil_res).system()"
   ]
  },
  {
   "cell_type": "markdown",
   "id": "22e6e8e7-2e2f-4e3c-b777-5add9871ce20",
   "metadata": {},
   "source": [
    "## Equilibration - no restraints\n"
   ]
  },
  {
   "cell_type": "code",
   "execution_count": 36,
   "id": "39d85e90-f1c8-4e40-b171-078de2195e05",
   "metadata": {},
   "outputs": [],
   "source": [
    "equil_prot = BSS.Protocol.Equilibration(timestep = 2*BSS.Units.Time.femtosecond, \n",
    "                                            runtime=0.2*BSS.Units.Time.nanosecond, \n",
    "                                            temperature=300*BSS.Units.Temperature.kelvin, \n",
    "                                            pressure=1*BSS.Units.Pressure.atm, \n",
    "                                            restraint=None)\n",
    "equil_proc = BSS.Process.Gromacs(equil_res, equil_prot, work_dir=f'{pdb}/equil')"
   ]
  },
  {
   "cell_type": "code",
   "execution_count": 37,
   "id": "651ec791-ac84-4c08-b5f2-82ffe8318a0b",
   "metadata": {},
   "outputs": [
    {
     "data": {
      "text/plain": [
       "['/home/lex/Research/kinase_intermediate_state/abfe/6rna/equil/final/final.gro',\n",
       " '/home/lex/Research/kinase_intermediate_state/abfe/6rna/equil/final/final.top']"
      ]
     },
     "execution_count": 37,
     "metadata": {},
     "output_type": "execute_result"
    }
   ],
   "source": [
    "equil_proc.start()\n",
    "equil = equil_proc.getSystem(block=True) \n",
    "BSS.IO.saveMolecules(f'{pdb}/equil/final/final', equil, ['gro87', 'grotop'])"
   ]
  },
  {
   "cell_type": "code",
   "execution_count": 38,
   "id": "ace9c543-b7dd-4622-8953-9725771d2a30",
   "metadata": {},
   "outputs": [
    {
     "data": {
      "application/vnd.jupyter.widget-view+json": {
       "model_id": "d26cc6990aa84f23a958e44c24b69e62",
       "version_major": 2,
       "version_minor": 0
      },
      "text/plain": [
       "NGLWidget(gui_style='ngl')"
      ]
     },
     "metadata": {},
     "output_type": "display_data"
    }
   ],
   "source": [
    "equil = BSS.IO.readMolecules(f'{pdb}/equil/final/*', make_whole=True)\n",
    "BSS.Notebook.View(equil).system()"
   ]
  },
  {
   "cell_type": "code",
   "execution_count": 40,
   "id": "8231cca7-f5d4-4864-8472-51003d585e6d",
   "metadata": {},
   "outputs": [
    {
     "name": "stderr",
     "output_type": "stream",
     "text": [
      "/home/lex/miniforge3/envs/bss/lib/python3.10/site-packages/BioSimSpace/Sandpit/Exscientia/Trajectory/_trajectory.py:635: UserWarning: MDAnalysis failed to read: traj=/home/lex/Research/kinase_intermediate_state/abfe/6rna/equil/gromacs.xtc, top=/home/lex/Research/kinase_intermediate_state/abfe/6rna/equil/gromacs.tpr\n",
      "  _warnings.warn(\n"
     ]
    }
   ],
   "source": [
    "traj = equil_proc.getTrajectory()"
   ]
  },
  {
   "cell_type": "code",
   "execution_count": 56,
   "id": "6ffb723e-c766-4e38-a446-cfabc9a4208c",
   "metadata": {},
   "outputs": [],
   "source": [
    "import mdtraj as md\n",
    "import nglview as nv"
   ]
  },
  {
   "cell_type": "code",
   "execution_count": 49,
   "id": "7698fa0a-f382-4475-bc5c-f1a5277c6468",
   "metadata": {},
   "outputs": [],
   "source": [
    "traj = md.load(f'{pdb}/equil/gromacs.xtc', top=f'{pdb}/equil/gromacs.gro')"
   ]
  },
  {
   "cell_type": "code",
   "execution_count": 52,
   "id": "203e394e-bd30-410d-82ff-d369392372c5",
   "metadata": {},
   "outputs": [],
   "source": [
    "traj = traj.image_molecules()"
   ]
  },
  {
   "cell_type": "code",
   "execution_count": 57,
   "id": "64bbdc65-3761-4cea-9d94-ac849fe74025",
   "metadata": {},
   "outputs": [
    {
     "data": {
      "application/vnd.jupyter.widget-view+json": {
       "model_id": "f64857859fd24a259a7b84f581365262",
       "version_major": 2,
       "version_minor": 0
      },
      "text/plain": [
       "NGLWidget(max_frame=100)"
      ]
     },
     "metadata": {},
     "output_type": "display_data"
    }
   ],
   "source": [
    "nv.show_mdtraj(traj)"
   ]
  },
  {
   "cell_type": "markdown",
   "id": "f31cd0cc-c1ef-4a90-a1de-8de1f75a69cb",
   "metadata": {},
   "source": [
    "## Production 5 ns"
   ]
  },
  {
   "cell_type": "code",
   "execution_count": 58,
   "id": "01c7e19c-ab18-4aae-910b-933cb83c7461",
   "metadata": {},
   "outputs": [],
   "source": [
    "prod_prot = BSS.Protocol.Production(timestep = 2*BSS.Units.Time.femtosecond, \n",
    "                                            runtime=5*BSS.Units.Time.nanosecond, \n",
    "                                            temperature=300*BSS.Units.Temperature.kelvin, \n",
    "                                            pressure=None, \n",
    "                                            restraint=None)\n",
    "prod_proc = BSS.Process.Gromacs(equil, prod_prot, work_dir=f'{pdb}/production')"
   ]
  },
  {
   "cell_type": "code",
   "execution_count": 59,
   "id": "1afb3c6d-d8a3-4854-950b-975926505402",
   "metadata": {},
   "outputs": [
    {
     "data": {
      "text/plain": [
       "['/home/lex/Research/kinase_intermediate_state/abfe/6rna/production/final/final.gro',\n",
       " '/home/lex/Research/kinase_intermediate_state/abfe/6rna/production/final/final.top']"
      ]
     },
     "execution_count": 59,
     "metadata": {},
     "output_type": "execute_result"
    }
   ],
   "source": [
    "prod_proc.start()\n",
    "prod = prod_proc.getSystem(block=True) \n",
    "BSS.IO.saveMolecules(f'{pdb}/production/final/final', prod, ['gro87', 'grotop'])"
   ]
  },
  {
   "cell_type": "code",
   "execution_count": 63,
   "id": "20d59aba-5af4-4927-aba7-21997a493d7e",
   "metadata": {},
   "outputs": [],
   "source": [
    "prod_traj = md.load(f'{pdb}/production/gromacs.xtc', top=f'{pdb}/production/gromacs.gro')\n"
   ]
  },
  {
   "cell_type": "code",
   "execution_count": 67,
   "id": "c89dc036-e753-426c-be9c-37ed1c8ceaee",
   "metadata": {},
   "outputs": [],
   "source": [
    "prod_traj = prod_traj.image_molecules()\n"
   ]
  },
  {
   "cell_type": "code",
   "execution_count": 68,
   "id": "82b1b540-8610-488e-89f1-660886b766a5",
   "metadata": {},
   "outputs": [
    {
     "data": {
      "application/vnd.jupyter.widget-view+json": {
       "model_id": "41db8a211362400ca46f4d3ab0c0877e",
       "version_major": 2,
       "version_minor": 0
      },
      "text/plain": [
       "NGLWidget(max_frame=2500)"
      ]
     },
     "metadata": {},
     "output_type": "display_data"
    }
   ],
   "source": [
    "nv.show_mdtraj(prod_traj)"
   ]
  }
 ],
 "metadata": {
  "kernelspec": {
   "display_name": "Python 3 (ipykernel)",
   "language": "python",
   "name": "python3"
  },
  "language_info": {
   "codemirror_mode": {
    "name": "ipython",
    "version": 3
   },
   "file_extension": ".py",
   "mimetype": "text/x-python",
   "name": "python",
   "nbconvert_exporter": "python",
   "pygments_lexer": "ipython3",
   "version": "3.10.14"
  }
 },
 "nbformat": 4,
 "nbformat_minor": 5
}
